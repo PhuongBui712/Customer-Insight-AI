{
 "cells": [
  {
   "cell_type": "markdown",
   "metadata": {},
   "source": [
    "## Import libraries"
   ]
  },
  {
   "cell_type": "code",
   "execution_count": 1,
   "metadata": {},
   "outputs": [],
   "source": [
    "import os\n",
    "import gspread\n",
    "from google.oauth2.service_account import Credentials\n",
    "\n",
    "import pandas as pd\n",
    "from pandas import DataFrame\n",
    "from typing import Optional, Literal, List\n",
    "\n",
    "from dotenv import load_dotenv"
   ]
  },
  {
   "cell_type": "code",
   "execution_count": 2,
   "metadata": {},
   "outputs": [
    {
     "data": {
      "text/plain": [
       "True"
      ]
     },
     "execution_count": 2,
     "metadata": {},
     "output_type": "execute_result"
    }
   ],
   "source": [
    "load_dotenv()"
   ]
  },
  {
   "cell_type": "markdown",
   "metadata": {},
   "source": [
    "## Transform raw messages to insightful table"
   ]
  },
  {
   "cell_type": "code",
   "execution_count": 3,
   "metadata": {},
   "outputs": [],
   "source": [
    "test_sample = [\n",
    "    {\n",
    "        \"message\": \"Mẹ Bầu ăn có tốt không?\",\n",
    "        \"inserted_at\": \"2024-09-02T07:43:27.000000\",\n",
    "        \"from\": \"customer\",\n",
    "        \"user\": [\"mẹ bầu\", \"trẻ con\"],\n",
    "        \"purpose\": [\"tẩm bổ\"],\n",
    "    },\n",
    "    {\n",
    "        \"message\": \"Đặt Súp Bào Ngư thăm người Ốm!\",\n",
    "        \"inserted_at\": \"2024-08-26T11:53:24.000000\",\n",
    "        \"from\": \"customer\",\n",
    "        \"user\": [\"người bệnh\", \"mẹ bầu\"],\n",
    "        \"purpose\": [\"thăm bệnh\"],\n",
    "    },\n",
    "]"
   ]
  },
  {
   "cell_type": "code",
   "execution_count": 4,
   "metadata": {},
   "outputs": [],
   "source": [
    "def create_dataframe(messages: List[dict]) -> DataFrame:\n",
    "    \"\"\"\n",
    "    Creates a Pandas DataFrame from a list of messages.\n",
    "\n",
    "    This function takes a list of dictionaries representing messages, each containing the following keys:\n",
    "    - `message`: The message content.\n",
    "    - `from`: The sender of the message.\n",
    "    - `inserted_at`: The timestamp of the message insertion.\n",
    "    - `user`: The user associated with the message.\n",
    "    - `purpose`: The purpose of the message.\n",
    "\n",
    "    The function converts the list of dictionaries into a Pandas DataFrame and performs the following transformations on the 'inserted_at' column:\n",
    "\n",
    "    1. Converts the string representation of the timestamp to a datetime object.\n",
    "    2. Localizes the timestamp to UTC.\n",
    "    3. Converts the timestamp to the Asia/Bangkok timezone.\n",
    "\n",
    "    Args:\n",
    "        messages (List[dict]): A list of dictionaries representing messages.\n",
    "\n",
    "    Returns:\n",
    "        DataFrame: A Pandas DataFrame containing the messages.\n",
    "    \"\"\"\n",
    "    df = pd.DataFrame(data=messages)\n",
    "\n",
    "    # convert string to datetime\n",
    "    df['inserted_at'] = df['inserted_at'].str.replace('T', ' ')\n",
    "    df['inserted_at'] = df['inserted_at'].str.replace(r'\\.\\d{6}', '', regex=True)\n",
    "    df['inserted_at'] = pd.to_datetime(df['inserted_at'], format='%Y-%m-%d %H:%M:%S')\n",
    "    \n",
    "    # transform timezone\n",
    "    df['inserted_at'] = df['inserted_at'].dt.tz_localize('UTC')\n",
    "    df['inserted_at'] = df['inserted_at'].dt.tz_convert('Asia/Bangkok')\n",
    "\n",
    "    return df"
   ]
  },
  {
   "cell_type": "code",
   "execution_count": 5,
   "metadata": {},
   "outputs": [],
   "source": [
    "df = create_dataframe(test_sample)"
   ]
  },
  {
   "cell_type": "code",
   "execution_count": 6,
   "metadata": {},
   "outputs": [],
   "source": [
    "def quantify_data(message_df: DataFrame, user_col: str = 'user', purpose_col: str = 'purpose') -> DataFrame:\n",
    "    user = message_df[[user_col]]\n",
    "    count_user = user.explode([user_col])\n",
    "    count_user = count_user.value_counts(user_col, ascending=False).reset_index()\n",
    "\n",
    "    purpose = message_df[[purpose_col]]\n",
    "    count_purpose = purpose.explode([purpose_col])\n",
    "    count_purpose = count_purpose.value_counts(purpose_col, ascending=False).reset_index()\n",
    "\n",
    "    return count_user, count_purpose"
   ]
  },
  {
   "cell_type": "code",
   "execution_count": 7,
   "metadata": {},
   "outputs": [
    {
     "data": {
      "text/html": [
       "<div>\n",
       "<style scoped>\n",
       "    .dataframe tbody tr th:only-of-type {\n",
       "        vertical-align: middle;\n",
       "    }\n",
       "\n",
       "    .dataframe tbody tr th {\n",
       "        vertical-align: top;\n",
       "    }\n",
       "\n",
       "    .dataframe thead th {\n",
       "        text-align: right;\n",
       "    }\n",
       "</style>\n",
       "<table border=\"1\" class=\"dataframe\">\n",
       "  <thead>\n",
       "    <tr style=\"text-align: right;\">\n",
       "      <th></th>\n",
       "      <th>user</th>\n",
       "      <th>count</th>\n",
       "    </tr>\n",
       "  </thead>\n",
       "  <tbody>\n",
       "    <tr>\n",
       "      <th>0</th>\n",
       "      <td>mẹ bầu</td>\n",
       "      <td>2</td>\n",
       "    </tr>\n",
       "    <tr>\n",
       "      <th>1</th>\n",
       "      <td>người bệnh</td>\n",
       "      <td>1</td>\n",
       "    </tr>\n",
       "    <tr>\n",
       "      <th>2</th>\n",
       "      <td>trẻ con</td>\n",
       "      <td>1</td>\n",
       "    </tr>\n",
       "  </tbody>\n",
       "</table>\n",
       "</div>"
      ],
      "text/plain": [
       "         user  count\n",
       "0      mẹ bầu      2\n",
       "1  người bệnh      1\n",
       "2     trẻ con      1"
      ]
     },
     "metadata": {},
     "output_type": "display_data"
    },
    {
     "data": {
      "text/html": [
       "<div>\n",
       "<style scoped>\n",
       "    .dataframe tbody tr th:only-of-type {\n",
       "        vertical-align: middle;\n",
       "    }\n",
       "\n",
       "    .dataframe tbody tr th {\n",
       "        vertical-align: top;\n",
       "    }\n",
       "\n",
       "    .dataframe thead th {\n",
       "        text-align: right;\n",
       "    }\n",
       "</style>\n",
       "<table border=\"1\" class=\"dataframe\">\n",
       "  <thead>\n",
       "    <tr style=\"text-align: right;\">\n",
       "      <th></th>\n",
       "      <th>purpose</th>\n",
       "      <th>count</th>\n",
       "    </tr>\n",
       "  </thead>\n",
       "  <tbody>\n",
       "    <tr>\n",
       "      <th>0</th>\n",
       "      <td>thăm bệnh</td>\n",
       "      <td>1</td>\n",
       "    </tr>\n",
       "    <tr>\n",
       "      <th>1</th>\n",
       "      <td>tẩm bổ</td>\n",
       "      <td>1</td>\n",
       "    </tr>\n",
       "  </tbody>\n",
       "</table>\n",
       "</div>"
      ],
      "text/plain": [
       "     purpose  count\n",
       "0  thăm bệnh      1\n",
       "1     tẩm bổ      1"
      ]
     },
     "metadata": {},
     "output_type": "display_data"
    }
   ],
   "source": [
    "user, purpose = quantify_data(df)\n",
    "\n",
    "display(user)\n",
    "\n",
    "display(purpose)"
   ]
  },
  {
   "cell_type": "markdown",
   "metadata": {
    "vscode": {
     "languageId": "plaintext"
    }
   },
   "source": [
    "## Load & Update Google sheet"
   ]
  },
  {
   "cell_type": "code",
   "execution_count": 3,
   "metadata": {},
   "outputs": [],
   "source": [
    "scopes = [\n",
    "    \"https://www.googleapis.com/auth/spreadsheets\"\n",
    "]\n",
    "\n",
    "creds = Credentials.from_service_account_file('../credentials.json', scopes=scopes)\n",
    "client = gspread.authorize(creds)"
   ]
  },
  {
   "cell_type": "code",
   "execution_count": 4,
   "metadata": {},
   "outputs": [],
   "source": [
    "sheet_id = os.environ['SHEET_ID']\n",
    "sheet = client.open_by_key(sheet_id)"
   ]
  },
  {
   "cell_type": "markdown",
   "metadata": {},
   "source": [
    "### Load worksheet"
   ]
  },
  {
   "cell_type": "code",
   "execution_count": 5,
   "metadata": {},
   "outputs": [],
   "source": [
    "def load_worksheet(sheet_id: Optional[str] = None, sheet_idx: Optional[int] = None) -> DataFrame:\n",
    "    if sheet_id is None and sheet_idx is None:\n",
    "        raise Exception(\"Please provide either a sheet id or sheet index.\")\n",
    "\n",
    "    worksheet = None\n",
    "    if sheet_id:\n",
    "        worksheet = sheet.get_worksheet_by_id(sheet_id)\n",
    "    else:\n",
    "        worksheet = sheet.get_worksheet(sheet_idx)\n",
    "\n",
    "    return pd.DataFrame(worksheet.get_all_records())"
   ]
  },
  {
   "cell_type": "code",
   "execution_count": 6,
   "metadata": {},
   "outputs": [
    {
     "data": {
      "text/html": [
       "<div>\n",
       "<style scoped>\n",
       "    .dataframe tbody tr th:only-of-type {\n",
       "        vertical-align: middle;\n",
       "    }\n",
       "\n",
       "    .dataframe tbody tr th {\n",
       "        vertical-align: top;\n",
       "    }\n",
       "\n",
       "    .dataframe thead th {\n",
       "        text-align: right;\n",
       "    }\n",
       "</style>\n",
       "<table border=\"1\" class=\"dataframe\">\n",
       "  <thead>\n",
       "    <tr style=\"text-align: right;\">\n",
       "      <th></th>\n",
       "      <th>Col 1</th>\n",
       "      <th>Col 2</th>\n",
       "    </tr>\n",
       "  </thead>\n",
       "  <tbody>\n",
       "    <tr>\n",
       "      <th>0</th>\n",
       "      <td>1</td>\n",
       "      <td>1</td>\n",
       "    </tr>\n",
       "    <tr>\n",
       "      <th>1</th>\n",
       "      <td>2</td>\n",
       "      <td>2</td>\n",
       "    </tr>\n",
       "    <tr>\n",
       "      <th>2</th>\n",
       "      <td>3</td>\n",
       "      <td>3</td>\n",
       "    </tr>\n",
       "    <tr>\n",
       "      <th>3</th>\n",
       "      <td>4</td>\n",
       "      <td>4</td>\n",
       "    </tr>\n",
       "    <tr>\n",
       "      <th>4</th>\n",
       "      <td>5</td>\n",
       "      <td>5</td>\n",
       "    </tr>\n",
       "  </tbody>\n",
       "</table>\n",
       "</div>"
      ],
      "text/plain": [
       "   Col 1  Col 2\n",
       "0      1      1\n",
       "1      2      2\n",
       "2      3      3\n",
       "3      4      4\n",
       "4      5      5"
      ]
     },
     "execution_count": 6,
     "metadata": {},
     "output_type": "execute_result"
    }
   ],
   "source": [
    "df = load_worksheet(sheet_idx=0)\n",
    "df"
   ]
  },
  {
   "cell_type": "markdown",
   "metadata": {},
   "source": [
    "### Update worksheet"
   ]
  },
  {
   "cell_type": "code",
   "execution_count": 7,
   "metadata": {},
   "outputs": [],
   "source": [
    "def update_worksheet(dataframe: DataFrame, sheet_id: Optional[str] = None, sheet_idx: Optional[int] = None, mode: Literal['update', 'replace'] = 'update') -> None:\n",
    "    if sheet_id is None and sheet_idx is None:\n",
    "        raise Exception(\"Please provide either `sheet_id` or `sheet_idx\")\n",
    "    \n",
    "    # get worksheet\n",
    "    if sheet_id:\n",
    "        worksheet = sheet.get_worksheet_by_id(sheet_id)\n",
    "    else:\n",
    "        worksheet = sheet.get_worksheet(sheet_idx)\n",
    "\n",
    "    # update worksheet\n",
    "    if mode == 'replace':\n",
    "        worksheet.clear()\n",
    "    \n",
    "    worksheet.update([dataframe.columns.values.tolist()] + dataframe.values.tolist())"
   ]
  },
  {
   "cell_type": "code",
   "execution_count": 8,
   "metadata": {},
   "outputs": [],
   "source": [
    "new_df = pd.DataFrame({'col a': [1,2,3,4,5], 'col b': [11,12,13,14,15]})\n",
    "update_worksheet(new_df, sheet_idx=0, mode='replace')"
   ]
  },
  {
   "cell_type": "code",
   "execution_count": 9,
   "metadata": {},
   "outputs": [
    {
     "data": {
      "text/html": [
       "<div>\n",
       "<style scoped>\n",
       "    .dataframe tbody tr th:only-of-type {\n",
       "        vertical-align: middle;\n",
       "    }\n",
       "\n",
       "    .dataframe tbody tr th {\n",
       "        vertical-align: top;\n",
       "    }\n",
       "\n",
       "    .dataframe thead th {\n",
       "        text-align: right;\n",
       "    }\n",
       "</style>\n",
       "<table border=\"1\" class=\"dataframe\">\n",
       "  <thead>\n",
       "    <tr style=\"text-align: right;\">\n",
       "      <th></th>\n",
       "      <th>col a</th>\n",
       "      <th>col b</th>\n",
       "    </tr>\n",
       "  </thead>\n",
       "  <tbody>\n",
       "    <tr>\n",
       "      <th>0</th>\n",
       "      <td>1</td>\n",
       "      <td>11</td>\n",
       "    </tr>\n",
       "    <tr>\n",
       "      <th>1</th>\n",
       "      <td>2</td>\n",
       "      <td>12</td>\n",
       "    </tr>\n",
       "    <tr>\n",
       "      <th>2</th>\n",
       "      <td>3</td>\n",
       "      <td>13</td>\n",
       "    </tr>\n",
       "    <tr>\n",
       "      <th>3</th>\n",
       "      <td>4</td>\n",
       "      <td>14</td>\n",
       "    </tr>\n",
       "    <tr>\n",
       "      <th>4</th>\n",
       "      <td>5</td>\n",
       "      <td>15</td>\n",
       "    </tr>\n",
       "  </tbody>\n",
       "</table>\n",
       "</div>"
      ],
      "text/plain": [
       "   col a  col b\n",
       "0      1     11\n",
       "1      2     12\n",
       "2      3     13\n",
       "3      4     14\n",
       "4      5     15"
      ]
     },
     "execution_count": 9,
     "metadata": {},
     "output_type": "execute_result"
    }
   ],
   "source": [
    "df = load_worksheet(sheet_idx=0)\n",
    "df"
   ]
  }
 ],
 "metadata": {
  "kernelspec": {
   "display_name": ".venv",
   "language": "python",
   "name": "python3"
  },
  "language_info": {
   "codemirror_mode": {
    "name": "ipython",
    "version": 3
   },
   "file_extension": ".py",
   "mimetype": "text/x-python",
   "name": "python",
   "nbconvert_exporter": "python",
   "pygments_lexer": "ipython3",
   "version": "3.12.4"
  }
 },
 "nbformat": 4,
 "nbformat_minor": 2
}
