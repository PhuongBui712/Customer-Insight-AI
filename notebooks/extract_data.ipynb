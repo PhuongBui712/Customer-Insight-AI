{
 "cells": [
  {
   "cell_type": "markdown",
   "metadata": {},
   "source": [
    "## Import libraries"
   ]
  },
  {
   "cell_type": "code",
   "execution_count": 1,
   "metadata": {},
   "outputs": [],
   "source": [
    "import sys, os\n",
    "\n",
    "sys.path.append(os.path.join(os.getcwd(), '..'))\n",
    "sys.path.append(os.path.join(os.getcwd(), '../src'))"
   ]
  },
  {
   "cell_type": "code",
   "execution_count": 2,
   "metadata": {},
   "outputs": [],
   "source": [
    "import re\n",
    "import time\n",
    "import json\n",
    "from tqdm.notebook import tqdm\n",
    "import pandas as pd\n",
    "from pandas import DataFrame\n",
    "from threading import Lock\n",
    "\n",
    "from langchain_groq import ChatGroq\n",
    "from langchain_google_genai import GoogleGenerativeAI\n",
    "from langchain_core.prompts import PromptTemplate, ChatPromptTemplate\n",
    "\n",
    "from prompt import inquiry_classifying_prompt, keyword_extracting_prompt\n",
    "from utils import *\n",
    "from dotenv import load_dotenv"
   ]
  },
  {
   "cell_type": "code",
   "execution_count": 3,
   "metadata": {},
   "outputs": [
    {
     "data": {
      "text/plain": [
       "True"
      ]
     },
     "execution_count": 3,
     "metadata": {},
     "output_type": "execute_result"
    }
   ],
   "source": [
    "load_dotenv()"
   ]
  },
  {
   "cell_type": "markdown",
   "metadata": {},
   "source": [
    "## Extract\n",
    "\n",
    "In this step, we will apply 2 methods to extract insightful data from customer's message:\n",
    "- **Meaningful inquiries**: Use LLM to detect any important, insightful customer's inquiries about products.\n",
    "- **Extracting keyword**: Use LLM to distil important keywords in messages"
   ]
  },
  {
   "cell_type": "markdown",
   "metadata": {},
   "source": [
    "**LOAD DATA**"
   ]
  },
  {
   "cell_type": "code",
   "execution_count": 4,
   "metadata": {},
   "outputs": [],
   "source": [
    "messages = load_json('../data/total_message.json')\n",
    "customer_messages = [m for m in messages if m['from'] == 'customer']"
   ]
  },
  {
   "cell_type": "code",
   "execution_count": 5,
   "metadata": {},
   "outputs": [],
   "source": [
    "N = 1000\n",
    "START = 0\n",
    "\n",
    "sample = [m['message'] for m in customer_messages[START : START + N]]"
   ]
  },
  {
   "cell_type": "markdown",
   "metadata": {},
   "source": [
    "**LOAD LLM**\n",
    "\n",
    "We will use ***Gemini-1.5-flash*** of Google, which is one of the state of the art LLMs (or even Multimodal model) in the present. Furthermore, this model is also provided a good API capacity for free tier.\n",
    "\n",
    "Because of requirement of precision and static output, we also need to modify `temperature`, `top_p`, and `top_k` to ensure model work accurately."
   ]
  },
  {
   "cell_type": "code",
   "execution_count": 6,
   "metadata": {},
   "outputs": [],
   "source": [
    "class LLMCaller:\n",
    "    \"\"\"\n",
    "    A class to manage the rate of requests to an LLM.\n",
    "    \n",
    "    This class implements a simple rate limiting mechanism to prevent exceeding the maximum number of requests per minute allowed by the LLM API.\n",
    "    \n",
    "    Attributes:\n",
    "        max_request_per_minute (int): The maximum number of requests allowed per minute.\n",
    "        _request_counter (int): The number of requests made in the current minute.\n",
    "        _last_reset_time (float): The timestamp of the last time the request counter was reset.\n",
    "        _state_lock (Lock): A lock to protect the request counter and last reset time from concurrent access.\n",
    "    \"\"\"\n",
    "    _request_counter = 0\n",
    "    _last_reset_time = 0.0\n",
    "    _state_lock = Lock()\n",
    "\n",
    "    def __init__(self, max_request_per_minute: int):\n",
    "        self.max_request_per_minute = max_request_per_minute\n",
    "\n",
    "    def _reset_counter(self):\n",
    "        current_time = time.time()\n",
    "        if self._last_reset_time == 0.0 or current_time - self._last_reset_time >= 60:\n",
    "            self._request_counter = 0\n",
    "            self._last_reset_time = current_time\n",
    "\n",
    "\n",
    "    def _increment_counter(self, num_request):\n",
    "        with self._state_lock:\n",
    "            self._reset_counter()\n",
    "            if self._request_counter + num_request > self.max_request_per_minute:\n",
    "                time.sleep(max(0, self._last_reset_time + 60 - time.time()))\n",
    "                self._reset_counter()\n",
    "            self._request_counter += num_request"
   ]
  },
  {
   "cell_type": "code",
   "execution_count": 7,
   "metadata": {},
   "outputs": [],
   "source": [
    "class GroqAICaller(LLMCaller):\n",
    "    def __init__(self, llm_config: dict, prompt: ChatPromptTemplate):\n",
    "        super().__init__(max_request_per_minute=30)\n",
    "\n",
    "        llm = ChatGroq(**llm_config)\n",
    "        self.chain = prompt | llm\n",
    "\n",
    "    def invoke(self, input: dict):\n",
    "        self._increment_counter(1)\n",
    "\n",
    "        return self.chain.invoke(input).content\n",
    "\n",
    "\n",
    "class GoogleAICaller(LLMCaller):\n",
    "    def __init__(self, llm_config: dict, prompt: PromptTemplate):\n",
    "        super().__init__(max_request_per_minute=15)\n",
    "\n",
    "        llm = GoogleGenerativeAI(**llm_config)\n",
    "        self.chain = prompt | llm\n",
    "\n",
    "\n",
    "    def invoke(self, input: dict):\n",
    "        self._increment_counter(1)\n",
    "\n",
    "        result = self.chain.invoke(input)\n",
    "\n",
    "        return result"
   ]
  },
  {
   "cell_type": "code",
   "execution_count": 8,
   "metadata": {},
   "outputs": [],
   "source": [
    "def parse_output(output: str):\n",
    "    \"\"\"\n",
    "    Parse the output of the LLM.\n",
    "    \n",
    "    The output of the LLM is expected to be in either '```python' or '```json' format.\n",
    "    This function will parse the output and return the result as a dictionary.\n",
    "    \n",
    "    Args:\n",
    "        output (str): The output of the LLM.\n",
    "    \n",
    "    Returns:\n",
    "        dict: The parsed output of the LLM.\n",
    "    \n",
    "    Raises:\n",
    "        Exception: If the output is not in the expected format.\n",
    "    \"\"\"\n",
    "    start = output.index('[')\n",
    "    end =  len(output) - output[::-1].index(']')\n",
    "\n",
    "    error_comma = end - 2 if output[end - 1] == ',' else end - 3\n",
    "    if output[error_comma] == ',':\n",
    "        output = output[:error_comma] + output[error_comma + 1:]\n",
    "\n",
    "    try:\n",
    "        res = json.loads(output[start:end])\n",
    "    except Exception:\n",
    "        try:\n",
    "            res = json.loads(output[start:end].lower())\n",
    "        except Exception:\n",
    "            raise Exception(f\"Could not parse output. Expected output in either '```python' or '```json' format. Received: \\n{output}\")\n",
    "    return res"
   ]
  },
  {
   "cell_type": "code",
   "execution_count": 9,
   "metadata": {},
   "outputs": [],
   "source": [
    "provider = 'groq'\n",
    "llm_config = load_yaml('../config.yaml')['llm'][provider]"
   ]
  },
  {
   "cell_type": "markdown",
   "metadata": {},
   "source": [
    "### Important Inquiries"
   ]
  },
  {
   "cell_type": "code",
   "execution_count": 10,
   "metadata": {},
   "outputs": [],
   "source": [
    "def parse_llm_output(output: str):\n",
    "    \"\"\"\n",
    "    Parse the output of the LLM.\n",
    "    \n",
    "    The output of the LLM is expected to be in either '```python' or '```json' format.\n",
    "    This function will parse the output and return the result as a dictionary.\n",
    "    \n",
    "    Args:\n",
    "        output (str): The output of the LLM.\n",
    "    \n",
    "    Returns:\n",
    "        dict: The parsed output of the LLM.\n",
    "    \n",
    "    Raises:\n",
    "        Exception: If the output is not in the expected format.\n",
    "    \"\"\"\n",
    "    start = output.index('[')\n",
    "    end =  len(output) - output[::-1].index(']')\n",
    "\n",
    "    error_comma = end - 2 if output[end - 1] == ',' else end - 3\n",
    "    if output[error_comma] == ',':\n",
    "        output = output[:error_comma] + output[error_comma + 1:]\n",
    "        \n",
    "    try:\n",
    "        res = json.loads(output[start:end])\n",
    "    except Exception:\n",
    "        try:\n",
    "            res = json.loads(output[start:end].lower())\n",
    "        except Exception:\n",
    "            raise Exception(f\"Could not parse output. Received: \\n{output}\")\n",
    "    return res"
   ]
  },
  {
   "cell_type": "code",
   "execution_count": 11,
   "metadata": {},
   "outputs": [],
   "source": [
    "def prefilter_messages(patterns: List[str], messages: List[str]):\n",
    "    synthetic_pattern = r'\\b(' + '|'.join(patterns) + r')\\b'\n",
    "    result = []\n",
    "    for m in messages:\n",
    "        if re.search(synthetic_pattern, m.lower()):\n",
    "            result.append(False)\n",
    "        else:\n",
    "            result.append(True)\n",
    "\n",
    "    return result"
   ]
  },
  {
   "cell_type": "code",
   "execution_count": 12,
   "metadata": {},
   "outputs": [],
   "source": [
    "# pre-filter common messages by keywords\n",
    "common_keywords = ['giao', 'ship', 'địa chỉ', 'dia chi', 'giá', 'stk', 'số tài khoản', \n",
    "                    'so tai khoan', 'thanh toán', 'chuyển khoản', 'tiền mặt', 'menu', 'alo', 'hi',\n",
    "                    'ok', 'shjp', 'quét']\n",
    "result = prefilter_messages(common_keywords, sample)\n",
    "\n",
    "redetect_message = [m for m, r in zip(sample, result) if r]\n",
    "redetect_index = [i for i in range(len(result)) if result[i]]"
   ]
  },
  {
   "cell_type": "code",
   "execution_count": 13,
   "metadata": {},
   "outputs": [
    {
     "data": {
      "application/vnd.jupyter.widget-view+json": {
       "model_id": "d42d0454eafc46afb8621e0e8e22c1f1",
       "version_major": 2,
       "version_minor": 0
      },
      "text/plain": [
       "Detecting insightful inquiry:   0%|          | 0/25 [00:00<?, ?it/s]"
      ]
     },
     "metadata": {},
     "output_type": "display_data"
    }
   ],
   "source": [
    "# classify by LLM\n",
    "mask = []\n",
    "batch_size = 30\n",
    "chain = GroqAICaller(llm_config, inquiry_classifying_prompt)\n",
    "for i in tqdm(range(0, len(redetect_message), batch_size), desc='Detecting insightful inquiry'):\n",
    "    end_idx = min(len(redetect_message), i + batch_size)\n",
    "    try:\n",
    "        response = chain.invoke({'input': str(redetect_message[i : end_idx])})\n",
    "    except Exception:\n",
    "        print(f'Error while generating response for batch {i} - {end_idx}')\n",
    "        \n",
    "        mask += ['error' for _ in range(i, end_idx)]\n",
    "        continue\n",
    "\n",
    "    try:\n",
    "        parsed_response = parse_llm_output(response)\n",
    "        mask += [list(r.items())[0][1] for r in parsed_response]\n",
    "    except Exception as exc:\n",
    "        print(f'Error while parsing LLM output for batch {i} - {end_idx}: {exc}')\n",
    "        print(response)\n",
    "        mask += ['error' for _ in range(i, end_idx)]\n",
    "\n",
    "# synthesize mask\n",
    "for i, j in enumerate(redetect_index):\n",
    "    result[j] = mask[i]"
   ]
  },
  {
   "cell_type": "code",
   "execution_count": 14,
   "metadata": {},
   "outputs": [],
   "source": [
    "important_messages = [m for m, l in zip(customer_messages[START : START + N], result) if l >= 0.8]"
   ]
  },
  {
   "cell_type": "markdown",
   "metadata": {},
   "source": [
    "### Extracting keywords"
   ]
  },
  {
   "cell_type": "code",
   "execution_count": 15,
   "metadata": {},
   "outputs": [],
   "source": [
    "message_list = [m['message'] for m in important_messages]"
   ]
  },
  {
   "cell_type": "code",
   "execution_count": 16,
   "metadata": {},
   "outputs": [
    {
     "data": {
      "application/vnd.jupyter.widget-view+json": {
       "model_id": "0114ee6f8b1c4d2dbb970cb08099d5ce",
       "version_major": 2,
       "version_minor": 0
      },
      "text/plain": [
       "Detecting insightful inquiry:   0%|          | 0/4 [00:00<?, ?it/s]"
      ]
     },
     "metadata": {},
     "output_type": "display_data"
    }
   ],
   "source": [
    "# extracting by LLM\n",
    "keywords = []\n",
    "batch_size = 30\n",
    "chain = GroqAICaller(llm_config, keyword_extracting_prompt)\n",
    "for i in tqdm(range(0, len(message_list), batch_size), desc='Detecting insightful inquiry'):\n",
    "    end_idx = min(len(message_list), i + batch_size)\n",
    "    try:\n",
    "        response = chain.invoke({'input': str(message_list[i : end_idx])})\n",
    "    except Exception:\n",
    "        print(f'Error while generating response for batch {i} - {end_idx}')\n",
    "        \n",
    "        keywords += ['error' for _ in range(i, end_idx)]\n",
    "        continue\n",
    "\n",
    "    try:\n",
    "        parsed_response = parse_llm_output(response)\n",
    "        keywords += parsed_response\n",
    "    except Exception as exc:\n",
    "        print(f'Error while parsing LLM output for batch {i} - {end_idx}: {exc}')\n",
    "        print(response)\n",
    "        keywords += ['error' for _ in range(i, end_idx)]"
   ]
  },
  {
   "cell_type": "code",
   "execution_count": 17,
   "metadata": {},
   "outputs": [
    {
     "data": {
      "text/plain": [
       "[{'bồi bổ ăn cái nào ạ': {'user': [], 'purpose': ['bồi bổ']}},\n",
       " {'kh phải ng lớn tuổi': {'user': ['người lớn tuổi'], 'purpose': []}},\n",
       " {'trẻ chớ kh phải lớn thổi ý': {'user': ['trẻ'], 'purpose': []}},\n",
       " {'Mẹ Bầu ăn có tốt không?': {'user': ['mẹ bầu'], 'purpose': ['bồi bổ']}},\n",
       " {'Đặt Súp Bào Ngư thăm người Ốm!': {'user': ['người ốm'],\n",
       "   'purpose': ['bồi dưỡng bệnh']}},\n",
       " {'Mẹ Bầu ăn có tốt không?': {'user': ['mẹ bầu'], 'purpose': ['bồi bổ']}},\n",
       " {'Đặt Súp Bào Ngư tẩm bổ cho Gia Đình / Người Thân / Đối Tác': {'user': ['gia đình',\n",
       "    'người thân',\n",
       "    'đối tác'],\n",
       "   'purpose': ['tẩm bổ']}},\n",
       " {'Đặt Súp Bào Ngư thăm người Ốm!': {'user': ['người ốm'],\n",
       "   'purpose': ['bồi dưỡng bệnh']}},\n",
       " {'món bạch yến càn long này người già lớn tuổi ăn hợp không em': {'user': ['người già',\n",
       "    'người lớn tuổi'],\n",
       "   'purpose': ['bồi bổ']}},\n",
       " {'bà 90 tuổi rồi có bị dai không': {'user': ['người già'],\n",
       "   'purpose': ['bồi bổ']}},\n",
       " {'Đặt dùng cho bầu ăn': {'user': ['mẹ bầu'], 'purpose': ['bồi bổ']}},\n",
       " {'Đặt Súp Bào Ngư tẩm bổ sinh lực Vợ / Chồng': {'user': ['vợ chồng'],\n",
       "   'purpose': ['tăng sinh lực']}},\n",
       " {'Đặt Súp Bào Ngư thăm người ốm!': {'user': ['người ốm'],\n",
       "   'purpose': ['bồi dưỡng bệnh']}},\n",
       " {'Người ốm 1 người ăn bạn nhé': {'user': ['người ốm'],\n",
       "   'purpose': ['bồi dưỡng bệnh']}},\n",
       " {'Đặt Súp Bào Ngư tẩm bổ sinh lực Vợ / Chồng': {'user': ['vợ chồng'],\n",
       "   'purpose': ['tăng sinh lực']}},\n",
       " {'Làm cho em kiểu nêm nếm ngon ngon thấm với cay tí, chứ thường em ăn mấy món này hơi khó ăn ko ngon': {'user': [],\n",
       "   'purpose': []}},\n",
       " {'Em ăn muốn ngon chứ ko phải chỉ để tẩm bổ ko ấy': {'user': [],\n",
       "   'purpose': []}},\n",
       " {'Trước em có ăn súp bào ngư vi cá ông sủi vị ăn ko quen': {'user': [],\n",
       "   'purpose': []}},\n",
       " {'Đặt Súp Bào Ngư thăm người ốm!': {'user': ['người ốm'],\n",
       "   'purpose': ['bồi dưỡng bệnh']}},\n",
       " {'Đặt Súp Bào Ngư thăm người ốm!': {'user': ['người ốm'],\n",
       "   'purpose': ['bồi dưỡng bệnh']}},\n",
       " {'phụ nữ sau sinh có dùng được k ạ': {'user': ['phụ nữ sau sinh'],\n",
       "   'purpose': ['bồi bổ']}},\n",
       " {'Chị hỏi trước vì có người nhà bệnh': {'user': ['người nhà'],\n",
       "   'purpose': ['bồi dưỡng bệnh']}},\n",
       " {'1 người bệnh ăn sáng thì đặt phần chi là hợp lý em.': {'user': ['người bệnh'],\n",
       "   'purpose': ['bồi dưỡng bệnh']}},\n",
       " {'Cho người bị ốm nặng em': {'user': ['người ốm'],\n",
       "   'purpose': ['bồi dưỡng bệnh']}},\n",
       " {'Nếu cậu ăn hợp thì em sẽ thường xuyên đặt ạ': {'user': [], 'purpose': []}},\n",
       " {'Mẹ Bầu ăn có tốt không?': {'user': ['mẹ bầu'], 'purpose': ['bồi bổ']}},\n",
       " {'Đặt Súp Bào Ngư thăm người ốm!': {'user': ['người ốm'],\n",
       "   'purpose': ['bồi dưỡng bệnh']}},\n",
       " {'Đặt Súp Bào Ngư thăm người ốm!': {'user': ['người ốm'],\n",
       "   'purpose': ['bồi dưỡng bệnh']}},\n",
       " {'Đặt Súp Bào Ngư thăm người ốm!': {'user': ['người ốm'],\n",
       "   'purpose': ['bồi dưỡng bệnh']}},\n",
       " {'Đặt Súp Bào Ngư tẩm bổ cho Gia Đình / Người Thân / Đối Tác': {'user': ['gia đình',\n",
       "    'người thân',\n",
       "    'đối tác'],\n",
       "   'purpose': ['tẩm bổ']}},\n",
       " {'dạ cho 1 người ăn ạ đặt cho mẹ ạ. mẹ e đang ốm vặt í': {'user': ['mẹ',\n",
       "    'người bệnh'],\n",
       "   'purpose': ['bồi dưỡng bệnh']}},\n",
       " {'dạ mẹ e ăn ít lắm nhiều quá c ạ': {'user': ['mẹ'], 'purpose': []}},\n",
       " {'dạ cho e 1 súp bào ngư dc ạ. yến thì mẹ e chưng uống hằng ngày r ạ. để e đặt thử 1 sup bào ngư xem mẹ e ăn hợp khẩu vị k đã nhé': {'user': ['mẹ'],\n",
       "   'purpose': ['bồi bổ']}},\n",
       " {'dạ k ạ sup bào ngư tiểu bảo ạ': {'user': [], 'purpose': []}},\n",
       " {'Mẹ Bầu ăn có tốt không?': {'user': ['mẹ bầu'], 'purpose': ['bồi bổ']}},\n",
       " {'Súp bào ngư tiểu bảo Á': {'user': [], 'purpose': []}},\n",
       " {'Mẹ bầu ăn kg được hã': {'user': ['mẹ bầu'], 'purpose': []}},\n",
       " {'Đang đặt cho mẹ bầu ăn đó nha . Bầu 26 tuần': {'user': ['mẹ bầu'],\n",
       "   'purpose': ['bồi bổ']}},\n",
       " {'Cho m hỏi cháo cho ng già yếu vs': {'user': ['người già yếu'],\n",
       "   'purpose': ['bồi bổ']}},\n",
       " {'Mẹ Bầu ăn có tốt không?': {'user': ['mẹ bầu'], 'purpose': ['bồi bổ']}},\n",
       " {'E muốn mua tẩm bổ cho chồng để sinh con ạ': {'user': ['chồng'],\n",
       "   'purpose': ['tăng sinh lực']}},\n",
       " {'Đặt cho người bệnh ăn': {'user': ['người bệnh'],\n",
       "   'purpose': ['bồi dưỡng bệnh']}},\n",
       " {'Đặt Súp Bào Ngư tẩm bổ cho Gia Đình / Người Thân / Đối Tác': {'user': ['gia đình',\n",
       "    'người thân',\n",
       "    'đối tác'],\n",
       "   'purpose': ['tặng quà', 'bồi bổ']}},\n",
       " {'Đặt Súp Bào Ngư thăm người ốm!': {'user': ['người bệnh'],\n",
       "   'purpose': ['bồi dưỡng bệnh']}},\n",
       " {'Dạ ngon c nha, mẹ e thích lắm ạ': {'user': ['mẹ'], 'purpose': []}},\n",
       " {'Mẹ Bầu ăn có tốt không?': {'user': ['mẹ bầu'], 'purpose': ['bồi bổ']}},\n",
       " {'Bác bảo ăn chi cx dc trừ nếp đồ thoi': {'user': ['bác'],\n",
       "   'purpose': ['bồi bổ']}},\n",
       " {'E giữ nóng giúp c nhé, tại hắn đem lên thấu bệnh viện lận đó': {'user': ['người bệnh'],\n",
       "   'purpose': ['bồi dưỡng bệnh']}},\n",
       " {'Kẻo mẹ chị cao huyết áp': {'user': ['mẹ'], 'purpose': ['bồi bổ']}},\n",
       " {'Đặt Súp Bào Ngư thăm người ốm!': {'user': ['người bệnh'],\n",
       "   'purpose': ['bồi dưỡng bệnh']}},\n",
       " {'Người mới ngủ dậy có ăn được không': {'user': ['người mới ngủ dậy'],\n",
       "   'purpose': ['bồi bổ']}},\n",
       " {'Mẹ Bầu ăn có tốt không?': {'user': ['mẹ bầu'], 'purpose': ['bồi bổ']}},\n",
       " {'Đặt Súp Bào Ngư tẩm bổ cho Gia Đình / Người Thân / Đối Tác': {'user': ['gia đình',\n",
       "    'người thân',\n",
       "    'đối tác'],\n",
       "   'purpose': ['tặng quà', 'bồi bổ']}},\n",
       " {'Mẹ Bầu ăn có tốt không?': {'user': ['mẹ bầu'], 'purpose': ['bồi bổ']}},\n",
       " {'Mẹ Bầu ăn có tốt không?': {'user': ['mẹ bầu'], 'purpose': ['bồi bổ']}},\n",
       " {'1 người để ăn trưa': {'user': ['người'], 'purpose': []}},\n",
       " {'uh.mình hỏi bsi mà bsi nói 3 mình đang bị gout, cám ơn b nhé': {'user': ['người bị gout'],\n",
       "   'purpose': ['bồi bổ']}},\n",
       " {'Đặt Súp Bào Ngư tẩm bổ cho Gia Đình / Người Thân / Đối Tác': {'user': ['gia đình',\n",
       "    'người thân',\n",
       "    'đối tác'],\n",
       "   'purpose': ['tặng quà', 'bồi bổ']}},\n",
       " {'bệnh nặng': {'user': ['người bệnh'], 'purpose': ['bồi dưỡng bệnh']}},\n",
       " {'Đặt Súp Bào Ngư thăm người ốm!': {'user': ['người bệnh'],\n",
       "   'purpose': ['bồi dưỡng bệnh']}},\n",
       " {'4h chiều cho người bệnh dùng': {'user': ['người bệnh'],\n",
       "   'purpose': ['bồi dưỡng bệnh']}},\n",
       " {'K shop nhé , người bệnh còn yếu nên ăn đc ít thôi shop ơi': {'user': ['người bệnh'],\n",
       "   'purpose': ['bồi dưỡng bệnh']}},\n",
       " {'Người cao tuổi có bệnh nền cao huyết áp': {'user': ['người cao tuổi',\n",
       "    'người bệnh'],\n",
       "   'purpose': ['bồi dưỡng bệnh']}},\n",
       " {'Cho e hỏi mẹ bầu tháng bao nhiêu mới ăn súp bào ngư đc ạ': {'user': ['mẹ bầu'],\n",
       "   'purpose': ['bồi bổ']}},\n",
       " {'Đặt Súp Bào Ngư thăm người ốm!': {'user': ['người bệnh'],\n",
       "   'purpose': ['bồi dưỡng bệnh']}},\n",
       " {'Đặt Súp Bào Ngư thăm người ốm!': {'user': ['người bệnh'],\n",
       "   'purpose': ['bồi dưỡng bệnh']}},\n",
       " {'Mẹ Bầu ăn có tốt không?': {'user': ['mẹ bầu'], 'purpose': ['bồi bổ']}},\n",
       " {'Chị đặt cho ba mẹ chị': {'user': ['ba mẹ'], 'purpose': ['biếu tặng']}},\n",
       " {'Em tặng ạ': {'user': [], 'purpose': ['biếu tặng']}},\n",
       " {'Đặt Súp Bào Ngư tẩm bổ sinh lực Vợ / Chồng': {'user': ['vợ chồng'],\n",
       "   'purpose': ['tăng sinh lực']}},\n",
       " {'Mẹ Bầu ăn có tốt không?': {'user': ['mẹ bầu'], 'purpose': ['bồi bổ']}},\n",
       " {'Đặt Súp Bào Ngư thăm người ốm!': {'user': ['người bệnh'],\n",
       "   'purpose': ['bồi dưỡng bệnh']}},\n",
       " {'C nằm viện nên muốn ăn cho khoẻ': {'user': ['người bệnh'],\n",
       "   'purpose': ['bồi dưỡng bệnh']}},\n",
       " {'Thì ăn gì cho dễ ăn e nhỉ': {'user': [], 'purpose': []}},\n",
       " {'Có dễ ăn ko e?': {'user': [], 'purpose': []}},\n",
       " {'Cho c thử phần tiểu bảo': {'user': [], 'purpose': []}},\n",
       " {'C sợ ăn chưa quen': {'user': [], 'purpose': []}},\n",
       " {'C đang cần bồi bổ': {'user': [], 'purpose': ['bồi bổ']}},\n",
       " {'Nấu cho bệnh nhân': {'user': ['người bệnh'],\n",
       "   'purpose': ['bồi dưỡng bệnh']}},\n",
       " {'Đặt Súp Bào Ngư thăm người ốm!': {'user': ['người bệnh'],\n",
       "   'purpose': ['bồi dưỡng bệnh']}},\n",
       " {'Đặt Súp Bào Ngư tẩm bổ cho Gia Đình / Người Thân / Đối Tác': {'user': ['gia đình',\n",
       "    'người thân',\n",
       "    'đối tác'],\n",
       "   'purpose': ['tặng quà', 'bồi bổ']}},\n",
       " {'C mình đặt rồi c mình nhận cho khoẻ': {'user': [], 'purpose': []}},\n",
       " {'Mẹ Bầu ăn có tốt không?': {'user': ['mẹ bầu'], 'purpose': ['bồi bổ']}},\n",
       " {'À mình đặt cho mẹ già bồi bổ thôi': {'user': ['mẹ già'],\n",
       "   'purpose': ['bồi bổ']}},\n",
       " {'Mẹ Bầu ăn có tốt không?': {'user': ['mẹ bầu'], 'purpose': ['bồi bổ']}},\n",
       " {'Mẹ Bầu ăn có tốt không?': {'user': ['mẹ bầu'], 'purpose': ['bồi bổ']}},\n",
       " {'Đặt Súp Bào Ngư tẩm bổ cho Gia Đình / Người Thân / Đối Tác': {'user': ['gia đình',\n",
       "    'người thân',\n",
       "    'đối tác'],\n",
       "   'purpose': ['tặng quà', 'bồi bổ']}},\n",
       " {'Đặt Súp Bào Ngư tẩm bổ cho Gia Đình / Người Thân / Đối Tác': {'user': ['gia đình',\n",
       "    'người thân',\n",
       "    'đối tác'],\n",
       "   'purpose': ['tặng quà', 'bồi bổ']}},\n",
       " {'Đặt Súp Bào Ngư tẩm bổ sinh lực Vợ / Chồng': {'user': ['vợ chồng'],\n",
       "   'purpose': ['tăng sinh lực']}},\n",
       " {'Cái này mua mẹ bầu ăn dc ko': {'user': ['mẹ bầu'], 'purpose': ['bồi bổ']}},\n",
       " {'Đặt Súp Bào Ngư tẩm bổ sinh lực Vợ / Chồng': {'user': ['vợ chồng'],\n",
       "   'purpose': ['tẩm bổ sinh lực']}},\n",
       " {'Đặt Súp Bào Ngư thăm người ốm!': {'user': ['người ốm'],\n",
       "   'purpose': ['thăm bệnh']}},\n",
       " {'Bố mình nằm viện nên cần mua loại nấu sẵn để ăn luôn': {'user': ['bố'],\n",
       "   'purpose': ['bồi dưỡng bệnh']}},\n",
       " {'Đặt Súp Bào Ngư thăm người ốm!': {'user': ['người ốm'],\n",
       "   'purpose': ['thăm bệnh']}},\n",
       " {'Mẹ Bầu ăn có tốt không?': {'user': ['mẹ bầu'], 'purpose': ['bồi bổ']}},\n",
       " {'Điều em giúp cho anh cắt nhỏ ra để người nhà dể ăn em nhé': {'user': ['người nhà'],\n",
       "   'purpose': ['bồi dưỡng bệnh']}},\n",
       " {'Già': {'user': ['người già'], 'purpose': []}},\n",
       " {'súp cho bầu': {'user': ['mẹ bầu'], 'purpose': ['bồi bổ']}},\n",
       " {'vì đang dưỡng ạ': {'user': [], 'purpose': ['bồi dưỡng']}}]"
      ]
     },
     "execution_count": 17,
     "metadata": {},
     "output_type": "execute_result"
    }
   ],
   "source": [
    "keywords"
   ]
  },
  {
   "cell_type": "code",
   "execution_count": 31,
   "metadata": {},
   "outputs": [],
   "source": [
    "tmp = important_messages.copy()"
   ]
  },
  {
   "cell_type": "code",
   "execution_count": 33,
   "metadata": {},
   "outputs": [],
   "source": [
    "for mess, kw_item in zip(tmp, keywords):\n",
    "    k, v = list(kw_item.items())[0]\n",
    "    mess.update(v)"
   ]
  },
  {
   "cell_type": "markdown",
   "metadata": {},
   "source": [
    "### Convert to dataframe"
   ]
  },
  {
   "cell_type": "code",
   "execution_count": 18,
   "metadata": {},
   "outputs": [],
   "source": [
    "def create_dataframe(messages: List[dict]) -> DataFrame:\n",
    "    df = pd.DataFrame(data=messages)\n",
    "\n",
    "    # convert string to datetime\n",
    "    df['inserted_at'] = df['inserted_at'].str.replace('T', ' ')\n",
    "    df['inserted_at'] = df['inserted_at'].str.replace(r'\\.\\d{6}', '', regex=True)\n",
    "    df['inserted_at'] = pd.to_datetime(df['inserted_at'], format='%Y-%m-%d %H:%M:%S')\n",
    "    \n",
    "    # transform timezone\n",
    "    df['inserted_at'] = df['inserted_at'].dt.tz_localize('UTC')\n",
    "    df['inserted_at'] = df['inserted_at'].dt.tz_convert('Asia/Bangkok')\n",
    "    df['inserted_at'] = df['inserted_at'].dt.tz_localize(None)\n",
    "    \n",
    "    return df"
   ]
  },
  {
   "cell_type": "code",
   "execution_count": 35,
   "metadata": {},
   "outputs": [
    {
     "data": {
      "text/html": [
       "<div>\n",
       "<style scoped>\n",
       "    .dataframe tbody tr th:only-of-type {\n",
       "        vertical-align: middle;\n",
       "    }\n",
       "\n",
       "    .dataframe tbody tr th {\n",
       "        vertical-align: top;\n",
       "    }\n",
       "\n",
       "    .dataframe thead th {\n",
       "        text-align: right;\n",
       "    }\n",
       "</style>\n",
       "<table border=\"1\" class=\"dataframe\">\n",
       "  <thead>\n",
       "    <tr style=\"text-align: right;\">\n",
       "      <th></th>\n",
       "      <th>message</th>\n",
       "      <th>inserted_at</th>\n",
       "      <th>from</th>\n",
       "      <th>user</th>\n",
       "      <th>purpose</th>\n",
       "    </tr>\n",
       "  </thead>\n",
       "  <tbody>\n",
       "    <tr>\n",
       "      <th>0</th>\n",
       "      <td>bồi bổ ăn cái nào ạ</td>\n",
       "      <td>2024-08-21 16:03:31</td>\n",
       "      <td>customer</td>\n",
       "      <td>[]</td>\n",
       "      <td>[bồi bổ]</td>\n",
       "    </tr>\n",
       "    <tr>\n",
       "      <th>1</th>\n",
       "      <td>kh phải ng lớn tuổi</td>\n",
       "      <td>2024-08-21 16:03:38</td>\n",
       "      <td>customer</td>\n",
       "      <td>[người lớn tuổi]</td>\n",
       "      <td>[]</td>\n",
       "    </tr>\n",
       "    <tr>\n",
       "      <th>2</th>\n",
       "      <td>trẻ chớ kh phải lớn thổi ý</td>\n",
       "      <td>2024-08-21 16:06:58</td>\n",
       "      <td>customer</td>\n",
       "      <td>[trẻ]</td>\n",
       "      <td>[]</td>\n",
       "    </tr>\n",
       "    <tr>\n",
       "      <th>3</th>\n",
       "      <td>Mẹ Bầu ăn có tốt không?</td>\n",
       "      <td>2024-09-02 14:43:27</td>\n",
       "      <td>customer</td>\n",
       "      <td>[mẹ bầu]</td>\n",
       "      <td>[bồi bổ]</td>\n",
       "    </tr>\n",
       "    <tr>\n",
       "      <th>4</th>\n",
       "      <td>Đặt Súp Bào Ngư thăm người Ốm!</td>\n",
       "      <td>2024-08-26 18:53:24</td>\n",
       "      <td>customer</td>\n",
       "      <td>[người ốm]</td>\n",
       "      <td>[bồi dưỡng bệnh]</td>\n",
       "    </tr>\n",
       "  </tbody>\n",
       "</table>\n",
       "</div>"
      ],
      "text/plain": [
       "                          message         inserted_at      from  \\\n",
       "0             bồi bổ ăn cái nào ạ 2024-08-21 16:03:31  customer   \n",
       "1             kh phải ng lớn tuổi 2024-08-21 16:03:38  customer   \n",
       "2      trẻ chớ kh phải lớn thổi ý 2024-08-21 16:06:58  customer   \n",
       "3         Mẹ Bầu ăn có tốt không? 2024-09-02 14:43:27  customer   \n",
       "4  Đặt Súp Bào Ngư thăm người Ốm! 2024-08-26 18:53:24  customer   \n",
       "\n",
       "               user           purpose  \n",
       "0                []          [bồi bổ]  \n",
       "1  [người lớn tuổi]                []  \n",
       "2             [trẻ]                []  \n",
       "3          [mẹ bầu]          [bồi bổ]  \n",
       "4        [người ốm]  [bồi dưỡng bệnh]  "
      ]
     },
     "execution_count": 35,
     "metadata": {},
     "output_type": "execute_result"
    }
   ],
   "source": [
    "df = create_dataframe(tmp)\n",
    "df.head(5)"
   ]
  },
  {
   "cell_type": "code",
   "execution_count": 36,
   "metadata": {},
   "outputs": [],
   "source": [
    "df.to_excel('full_sample.xlsx', index=False)"
   ]
  }
 ],
 "metadata": {
  "kernelspec": {
   "display_name": ".venv",
   "language": "python",
   "name": "python3"
  },
  "language_info": {
   "codemirror_mode": {
    "name": "ipython",
    "version": 3
   },
   "file_extension": ".py",
   "mimetype": "text/x-python",
   "name": "python",
   "nbconvert_exporter": "python",
   "pygments_lexer": "ipython3",
   "version": "3.12.4"
  }
 },
 "nbformat": 4,
 "nbformat_minor": 2
}
